{
 "cells": [
  {
   "cell_type": "markdown",
   "metadata": {},
   "source": [
    "# Ring Polymer Molecular Dynamics (RPMD)\n",
    "## Autocorrelation Functions for One-Dimensional Potentials"
   ]
  },
  {
   "cell_type": "code",
   "execution_count": 1,
   "metadata": {},
   "outputs": [],
   "source": [
    "# Import relevant modules\n",
    "import numpy as np\n",
    "import matplotlib.pyplot as plt\n",
    "import engine.autocorrelation as ac"
   ]
  },
  {
   "cell_type": "markdown",
   "metadata": {},
   "source": [
    "The following code presents an example implementation of `engine/autocorrelation.py`. Specifically, the `AutoCorrelation` class is used to compute classical and RPMD position autocorrelation functions for one-dimensional potentials.\n",
    "\n",
    "The ring polymer position autocorrelation function (ACF) is an approximation to the Kubo-transformed quantum ACF:\n",
    "$$\n",
    "    \\widetilde{C}_{AB}^{(N)}(t) = \\langle q(0)q(t)\\rangle_N =  \\frac{1}{(2\\pi\\hbar)^N Z_N}\\int \\text{d}\\textbf{p}\\int\\text{d}\\textbf{q}\\:\\text{e}^{-\\beta_N H_N(\\textbf{p},\\textbf{q})}\\bar{q}_N(\\textbf{q})\\bar{q}_N(\\textbf{q}_t)\n",
    "$$\n",
    "where the $N$-bead ring polymer Hamiltonian $H_N(\\textbf{p},\\textbf{q})$ and ring polymer partition function $Z_N$ are given by\n",
    "$$\n",
    "    H_N(\\textbf{p},\\textbf{q}) = \\sum_{j=1}^N \\left[\\frac{p_j^2}{2m} + \\frac{1}{2}m\\omega_N^2(q_j-q_{j+1})^2 + V(q_j)\\right]\n",
    "$$\n",
    "$$\n",
    "    Z_N = \\frac{1}{(2\\pi\\hbar)^N}\\int \\text{d}\\textbf{p}\\int \\text{d}\\textbf{q}\\:\\text{e}^{-\\beta_N H_N(\\textbf{p},\\textbf{q})}\n",
    "$$\n",
    "The ring polymer centroid, $\\bar{q}_N(\\textbf{q})$, is defined as:\n",
    "$$\n",
    "    \\bar{q}_N(\\textbf{q}) = \\frac{1}{N}\\sum_{j=1}^N q_j\n",
    "$$\n",
    "The classical position ACF can be computed by taking $N=1$ (although in `autocorrelation.py` the classical case is treated separately, since this allows for more efficient evaluation compared to generalising the RPMD code). The `AutoCorrelation` class also takes a function argument, `force`, allowing one to input a custom 1D force function. In the example, we use a cubic force term which arises from the quartic potential $V(x) = x^4 / 4$."
   ]
  },
  {
   "cell_type": "code",
   "execution_count": 7,
   "metadata": {},
   "outputs": [
    {
     "data": {
      "image/png": "[encoded data removed]",
      "text/plain": [
       "<Figure size 432x288 with 1 Axes>"
      ]
     },
     "metadata": {
      "needs_background": "light"
     },
     "output_type": "display_data"
    }
   ],
   "source": [
    "# Define function to be used as force\n",
    "# Note that force = -dV/dx\n",
    "# Here we define a force consistent with the strongly anharmonic potential V(x) = (x^4)/4\n",
    "def force(x):\n",
    "    return -x**3\n",
    "\n",
    "# Set simulation parameters (an example)\n",
    "beta = 8\n",
    "mass = 1\n",
    "dt = 0.05\n",
    "n_samp = 2000\n",
    "n_equil = 100\n",
    "n_evol = 400\n",
    "\n",
    "# Set the number of ring polymer beads\n",
    "N = 32\n",
    "\n",
    "# Initialise ACF class and plot classical and RPMD TCFs\n",
    "acf = ac.AutoCorrelation(force, beta, mass, dt, n_samp, n_equil, n_evol)\n",
    "classical_xx = acf.classical_autocorrelation()\n",
    "rpmd_xx = acf.rpmd_autocorrelation(N)\n",
    "\n",
    "# Plot results\n",
    "time = np.linspace(0, acf.dt * acf.n_evol, acf.n_evol)\n",
    "plt.plot(time, classical_xx, color='b', label='Classical')\n",
    "plt.plot(time, rpmd_xx, color='r', label='RPMD')\n",
    "plt.xlim(0, acf.dt * acf.n_evol)\n",
    "plt.xlabel('Time')\n",
    "plt.ylabel(r'$\\langle x_N(0) x_N(t) \\rangle$')\n",
    "plt.legend(frameon=False)\n",
    "plt.show()"
   ]
  },
  {
   "cell_type": "code",
   "execution_count": null,
   "metadata": {},
   "outputs": [],
   "source": []
  }
 ],
 "metadata": {
  "kernelspec": {
   "display_name": "Python 3",
   "language": "python",
   "name": "python3"
  },
  "language_info": {
   "codemirror_mode": {
    "name": "ipython",
    "version": 3
   },
   "file_extension": ".py",
   "mimetype": "text/x-python",
   "name": "python",
   "nbconvert_exporter": "python",
   "pygments_lexer": "ipython3",
   "version": "3.10.6"
  }
 },
 "nbformat": 4,
 "nbformat_minor": 2
}
